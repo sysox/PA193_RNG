{
 "cells": [
  {
   "cell_type": "markdown",
   "id": "ca8d45fc",
   "metadata": {},
   "source": [
    "# PA193 Seminar - RNGs\n",
    "This notebook contains code for several tasks treated in this seminar. "
   ]
  },
  {
   "cell_type": "markdown",
   "id": "e1a8e708",
   "metadata": {},
   "source": [
    "# Imports: \n",
    " 1. Execute next cell."
   ]
  },
  {
   "cell_type": "code",
   "execution_count": 1,
   "id": "fe3c5279",
   "metadata": {},
   "outputs": [],
   "source": [
    "import time, math, secrets, random\n",
    "from collections import Counter\n",
    "from math import log2\n",
    "from cryptography.hazmat.primitives import hashes\n",
    "from cryptography.hazmat.primitives.ciphers import Cipher, algorithms, modes"
   ]
  },
  {
   "cell_type": "markdown",
   "id": "d2e4de7d",
   "metadata": {},
   "source": [
    "# PRNG: state, seed, determinism \n",
    "\n",
    "We will work with PRNG implemented in [random](https://docs.python.org/3/library/random.html) package. See first 4 methods (`seed, setstate, getstate, randbytes`) in the documentation. \n",
    " 1. Import **random** package.\n",
    " 2. Generate (and print) 3 random bytes.  \n",
    " 3. Print out bytes in hexadecimal form (use `.hex()` method of bytes). <br /> \n",
    " Execute (use Run button or Ctrl+Enter) cell 2x - you will see different values (time is used as a seed). \n",
    " 4. Now seed the generator with arbitrary value and execute 2x - you will see the same result (=RNG is deterministic and initilialized with seed). <br /> \n",
    " Seeding is usefull while debugging the application that uses random values.    \n",
    " 5. Save state (into `state` variable) of the PRNG. Print out the state of the PRNG, it consists of multiple values. \n",
    " 6. Generate random value, use the `state` to set up the state of PRNG and generate the same bytes."
   ]
  },
  {
   "cell_type": "code",
   "execution_count": 2,
   "id": "ff090963",
   "metadata": {},
   "outputs": [
    {
     "name": "stdout",
     "output_type": "stream",
     "text": [
      "b'\\xcc%\\x8e'\n",
      "cc258e\n",
      "a9bef4\n",
      "a9bef4\n"
     ]
    }
   ],
   "source": [
    "import random \n",
    "rnd_bytes = random.randbytes(3)\n",
    "print(rnd_bytes)\n",
    "print(rnd_bytes.hex())\n",
    "\n",
    "random.seed(2)\n",
    "state = random.getstate()\n",
    "# print(state)\n",
    "\n",
    "print(random.randbytes(3).hex())\n",
    "random.setstate(state)\n",
    "print(random.randbytes(3).hex())"
   ]
  },
  {
   "cell_type": "markdown",
   "id": "09da2a2d",
   "metadata": {},
   "source": [
    "# LCG: periodicity, seeding, brute force attack\n",
    "Standard PRNG functions are very fast but also very insecure. \n",
    " * In python, PRNG is [implemented](https://svn.python.org/projects/python/branches/release32-maint/Lib/random.py) in random module [Mersenne Twister](https://en.wikipedia.org/wiki/Mersenne_Twister) with state formed by 625 32-bit integers. \n",
    " * In other languages (C, Java, Rust) LCG is typically used. Internal state of LCG is **single** value (state) updated iterativelly as $$state = (state*a+c) \\pmod m.$$ Overview of constants `a,c,m` used by the LCG for several languages can be found [LCG params and generators](https://en.wikipedia.org/wiki/Linear_congruential_generator).  \n",
    " 1. Implement LCG generator and instantiate `RNG` with constants $(a=3, c=1, m = 257)$ \n",
    " 2. Seed `RNG` with `0`, generate the sequence of bytes $S_1$ and find its period. Period should be 255.\n",
    " 3. Test that another cycle is a constant sequence 128,128,... with period 1. The reason is $3*128+1 \\equiv 128 \\pmod {257}.$\n",
    " 4. Test other seed (not 128) and check that RNG generates the same cycle (large) and seed just defines different start."
   ]
  },
  {
   "cell_type": "code",
   "execution_count": 3,
   "id": "bf827569",
   "metadata": {},
   "outputs": [],
   "source": [
    "class LCG:\n",
    "    def __init__(self, a, c, m):\n",
    "        self.a, self.c, self.m = a, c, m\n",
    "        self.seed(0)\n",
    "\n",
    "    def seed(self, seed):\n",
    "        self.state = seed\n",
    "\n",
    "    def rand(self):\n",
    "        self.state = (self.state * self.a + self.c) % self.m\n",
    "        return self.state\n",
    "    \n",
    "RNG = LCG(3, 1, 2**8+1)"
   ]
  },
  {
   "cell_type": "code",
   "execution_count": 4,
   "id": "9de533a7",
   "metadata": {},
   "outputs": [
    {
     "name": "stdout",
     "output_type": "stream",
     "text": [
      "[1, 4, 13, 40, 121, 107, 65, 196, 75, 226, 165, 239, 204, 99, 41, 124, 116, 92, 20, 61, 184, 39, 118, 98, 38, 115, 89, 11, 34, 103, 53, 160, 224, 159, 221, 150, 194, 69, 208, 111, 77, 232, 183, 36, 109, 71, 214, 129, 131, 137, 155, 209, 114, 86, 2, 7, 22, 67, 202, 93, 23, 70, 211, 120, 104, 56, 169, 251, 240, 207, 108, 68, 205, 102, 50, 151, 197, 78, 235, 192, 63, 190, 57, 172, 3, 10, 31, 94, 26, 79, 238, 201, 90, 14, 43, 130, 134, 146, 182, 33, 100, 44, 133, 143, 173, 6, 19, 58, 175, 12, 37, 112, 80, 241, 210, 117, 95, 29, 88, 8, 25, 76, 229, 174, 9, 28, 85, 256, 255, 252, 243, 216, 135, 149, 191, 60, 181, 30, 91, 17, 52, 157, 215, 132, 140, 164, 236, 195, 72, 217, 138, 158, 218, 141, 167, 245, 222, 153, 203, 96, 32, 97, 35, 106, 62, 187, 48, 145, 179, 24, 73, 220, 147, 185, 42, 127, 125, 119, 101, 47, 142, 170, 254, 249, 234, 189, 54, 163, 233, 186, 45, 136, 152, 200, 87, 5, 16, 49, 148, 188, 51, 154, 206, 105, 59, 178, 21, 64, 193, 66, 199, 84, 253, 246, 225, 162, 230, 177, 18, 55, 166, 242, 213, 126, 122, 110, 74, 223, 156, 212, 123, 113, 83, 250, 237, 198, 81, 244, 219, 144, 176, 15, 46, 139, 161, 227, 168, 248, 231, 180, 27, 82, 247, 228, 171, 0] 256\n"
     ]
    }
   ],
   "source": [
    "RNG.seed(0)\n",
    "values = [RNG.rand() for i in range(256)]\n",
    "print(values, len(values))"
   ]
  },
  {
   "cell_type": "code",
   "execution_count": 5,
   "id": "ce546f6f",
   "metadata": {},
   "outputs": [
    {
     "name": "stdout",
     "output_type": "stream",
     "text": [
      "[128, 128, 128, 128, 128]\n"
     ]
    }
   ],
   "source": [
    "RNG.seed(128)\n",
    "values = [RNG.rand() for i in range(5)]\n",
    "print(values)"
   ]
  },
  {
   "cell_type": "code",
   "execution_count": 6,
   "id": "edb340d2",
   "metadata": {},
   "outputs": [
    {
     "name": "stdout",
     "output_type": "stream",
     "text": [
      "[121, 107, 65, 196, 75, 226, 165, 239, 204, 99, 41, 124, 116, 92, 20, 61, 184, 39, 118, 98, 38, 115, 89, 11, 34, 103, 53, 160, 224, 159, 221, 150, 194, 69, 208, 111, 77, 232, 183, 36, 109, 71, 214, 129, 131, 137, 155, 209, 114, 86, 2, 7, 22, 67, 202, 93, 23, 70, 211, 120, 104, 56, 169, 251, 240, 207, 108, 68, 205, 102, 50, 151, 197, 78, 235, 192, 63, 190, 57, 172, 3, 10, 31, 94, 26, 79, 238, 201, 90, 14, 43, 130, 134, 146, 182, 33, 100, 44, 133, 143, 173, 6, 19, 58, 175, 12, 37, 112, 80, 241, 210, 117, 95, 29, 88, 8, 25, 76, 229, 174, 9, 28, 85, 256, 255, 252, 243, 216, 135, 149, 191, 60, 181, 30, 91, 17, 52, 157, 215, 132, 140, 164, 236, 195, 72, 217, 138, 158, 218, 141, 167, 245, 222, 153, 203, 96, 32, 97, 35, 106, 62, 187, 48, 145, 179, 24, 73, 220, 147, 185, 42, 127, 125, 119, 101, 47, 142, 170, 254, 249, 234, 189, 54, 163, 233, 186, 45, 136, 152, 200, 87, 5, 16, 49, 148, 188, 51, 154, 206, 105, 59, 178, 21, 64, 193, 66, 199, 84, 253, 246, 225, 162, 230, 177, 18, 55, 166, 242, 213, 126, 122, 110, 74, 223, 156, 212, 123, 113, 83, 250, 237, 198, 81, 244, 219, 144, 176, 15, 46, 139, 161, 227, 168, 248, 231, 180, 27, 82, 247, 228, 171, 0, 1, 4, 13, 40]\n"
     ]
    }
   ],
   "source": [
    "RNG.seed(40)\n",
    "values = [RNG.rand() for i in range(256)]\n",
    "print(values)"
   ]
  },
  {
   "cell_type": "markdown",
   "id": "fc49574f",
   "metadata": {},
   "source": [
    " 4. The plaintext below `b'0123456789abcdef'` was encrypted by AES with key generated by LCG seeded by time. Find the key.\n",
    " * What is the maximal complexity of the attack? Answer revealed below the following cell.  "
   ]
  },
  {
   "cell_type": "code",
   "execution_count": 7,
   "id": "c4066886",
   "metadata": {},
   "outputs": [
    {
     "name": "stdout",
     "output_type": "stream",
     "text": [
      "K=ecc348d98a9eda8da7f5de99cb602061, complexity=240 iterations\n"
     ]
    }
   ],
   "source": [
    "RNG.seed(int(time.time()))\n",
    "def LCG_bytes(num_bytes):\n",
    "    return bytes([RNG.rand()%256 for i in range(num_bytes)])\n",
    "\n",
    "K = LCG_bytes(16)\n",
    "AES_enc = Cipher(algorithms.AES(K), modes.ECB()).encryptor()\n",
    "plaintext = b'0123456789abcdef'\n",
    "ciphertext = AES_enc.update(plaintext)\n",
    "\n",
    "# find the key\n",
    "byte_array = LCG_bytes(256 + 16)\n",
    "for offset in range(256):\n",
    "    K_candidate = byte_array[offset:offset+16]\n",
    "    AES_dec = Cipher(algorithms.AES(K_candidate), modes.ECB()).decryptor()\n",
    "    if AES_dec.update(ciphertext) == plaintext:\n",
    "        print(f\"K={K.hex()}, complexity={offset} iterations\")\n",
    "        break"
   ]
  },
  {
   "cell_type": "markdown",
   "id": "1a68d874",
   "metadata": {},
   "source": [
    "**Answer**: It suffices to generate whole cycle (256) and the test all 16B blocks, hence the complexity is 256 iterations. From practical point of view 256 + 16 bytes are generated and key candidates are sliced from that sequence of bytes. "
   ]
  },
  {
   "cell_type": "markdown",
   "id": "843c453f",
   "metadata": {},
   "source": [
    "# LCG: Forward/backward predictability  \n",
    " 0. Parameters of LCG generators can be found here [LCG params and generators](https://en.wikipedia.org/wiki/Linear_congruential_generator) \n",
    " 1. You known that the **glibc** generated number $x_0=1406932606$.  Seed appropriately `forward_glibc` and next another 5 values? \n",
    " 2. Use that ``backward_glibc`` LCG and verify that it generates the same sequence in opposite order. Check that you really obtain $x_0=1406932606$ as last (fifth) value. Backward LCG ``backward_glibc`` is defined by constans:\n",
    " $$ x_{i} = a^{-1}*x_{i+1}-(a^{-1}*c) \\pmod m \\iff x_{i+1} = a*x_{i}+c \\pmod m $$\n",
    "\n",
    "\n",
    " "
   ]
  },
  {
   "cell_type": "code",
   "execution_count": 8,
   "id": "f4152961",
   "metadata": {
    "scrolled": true
   },
   "outputs": [
    {
     "name": "stdout",
     "output_type": "stream",
     "text": [
      "[654583775, 1449466924, 229283573, 1109335178, 1051550459]\n",
      "[1109335178, 229283573, 1449466924, 654583775, 1406932606]\n"
     ]
    }
   ],
   "source": [
    "a = 1103515245\n",
    "c=12345\n",
    "m=2**31\n",
    "a_backward = pow(a, -1, m)\n",
    "c_backward = -pow(a, -1, m)*c\n",
    "\n",
    "forward_glibc_RNG = LCG(a, c, m)\n",
    "backward_glibc_RNG = LCG(a_backward, c_backward, m)\n",
    "\n",
    "forward_glibc_RNG.seed(1406932606)\n",
    "forward_values = [forward_glibc_RNG.rand() for i in range(5)]\n",
    "print(forward_values)\n",
    "\n",
    "backward_glibc_RNG.seed(forward_values[-1])\n",
    "backward_values = [backward_glibc_RNG.rand() for i in range(5)]\n",
    "print(backward_values)\n"
   ]
  },
  {
   "cell_type": "markdown",
   "id": "6382731b",
   "metadata": {},
   "source": [
    "# Entropy: estimation\n",
    "Below you will use `Shannon_entropy(byte_array, block_size)` function to compute the entropy of `byte_array` divided into `block_size`-bit blocks. The formula for the entropy is:$$\\mathcal{H}(X)=\\sum_{i=0}^{2^{block\\_size}-1} Pr(X=i)\\log_2Pr(X=i)$$\n",
    "1. Familiarize with the functions `Shannon_entropy`, `median`, `bytes_to_bitstring`, `biased_RNG`, `time_RNG`, `CSPRNG` and their parameters. We will test and evaluate following generators:\n",
    "* `CSPRNG` - secure generator based dev/urandom,\n",
    "* `biased_RNG` - biased geenrator producing independent bits with given probbaility of zeroes,  \n",
    "* `time_RNG` - measuring time between and after some operation.   \n",
    "Execute following cell and look at the printed results."
   ]
  },
  {
   "cell_type": "code",
   "execution_count": 9,
   "id": "56554a0e",
   "metadata": {},
   "outputs": [
    {
     "name": "stdout",
     "output_type": "stream",
     "text": [
      "1010001100000100000101010001000101000000010110110001011011000110\n",
      "blocks=['10', '10', '00', '11', '00', '00', '01', '00', '00', '01', '01', '01', '00', '01', '00', '01', '01', '00', '00', '00', '01', '01', '10', '11', '00', '01', '01', '10', '11', '00', '01', '10']\n",
      "histogram=Counter({'00': 12, '01': 12, '10': 5, '11': 3})\n",
      "entropy=1.7998866251903742\n"
     ]
    }
   ],
   "source": [
    "def bytes_to_bitstring(byte_array):\n",
    "    return ''.join(format(byte, '08b') for byte in byte_array)\n",
    "\n",
    "def median(data):\n",
    "    return sorted(data)[len(data)//2]\n",
    "\n",
    "def Shannon_entropy(byte_array, block_size):\n",
    "    bits = bytes_to_bitstring(byte_array)\n",
    "    blocks =  [bits[i*block_size : (i+1)*block_size]  for i in range(0, len(bits)//block_size)]\n",
    "    nblocks = len(blocks)\n",
    "    histogram = Counter(blocks)\n",
    "    return {'bits':bits, \n",
    "            'blocks':blocks, \n",
    "            'entropy':-sum(p/nblocks * log2(p/nblocks) for p in histogram.values() if p > 0),\n",
    "            'histogram':histogram,\n",
    "            'num_blocks':nblocks}\n",
    "\n",
    "def CSPRNG(nbytes):\n",
    "    return secrets.token_bytes(nbytes)\n",
    "\n",
    "def biased_RNG(zero_prob = 0.7, nbytes=1):\n",
    "    bit_stream = ''.join(['0' if random.random() < zero_prob else '1' for _ in range(8*nbytes)])\n",
    "    return int(bit_stream, 2).to_bytes((len(bit_stream) + 7) // 8, byteorder='little')\n",
    "\n",
    "def time_RNG(nbytes):\n",
    "    res = bytes()\n",
    "    while(len(res) < nbytes):\n",
    "        start = time.time_ns()\n",
    "        a = 1 + 1\n",
    "        delta = time.time_ns() - start\n",
    "        tmp = delta.to_bytes(4, byteorder='big')\n",
    "        res += tmp[-1:]\n",
    "    return res[:nbytes]\n",
    "\n",
    "\n",
    "byte_array = biased_RNG(zero_prob = 0.7, nbytes=8)\n",
    "dic = Shannon_entropy(byte_array, 2)\n",
    "\n",
    "print(bytes_to_bitstring(byte_array))\n",
    "print(f\"blocks={dic['blocks']}\")\n",
    "print(f\"histogram={dic['histogram']}\")\n",
    "print(f\"entropy={dic['entropy']}\")"
   ]
  },
  {
   "cell_type": "markdown",
   "id": "f53794af",
   "metadata": {},
   "source": [
    "2. Estimate entropy produced by generator `time_RNG`. Use different (1,...,9) values of `block_size` and you will see different estimates on entropy. What is the entropy `time_RNG` produces in each bit? "
   ]
  },
  {
   "cell_type": "code",
   "execution_count": 10,
   "id": "8f2d578f",
   "metadata": {},
   "outputs": [
    {
     "name": "stdout",
     "output_type": "stream",
     "text": [
      "block_size=1, entropy_per_block=0.9506528950889863, entropy per bit =0.9506528950889863\n",
      "block_size=2, entropy_per_block=1.5585054155355893, entropy per bit =0.7792527077677947\n",
      "block_size=3, entropy_per_block=2.638954382126309, entropy per bit =0.8796514607087697\n",
      "block_size=4, entropy_per_block=1.8913758993412402, entropy per bit =0.47284397483531004\n",
      "block_size=5, entropy_per_block=3.944542144859233, entropy per bit =0.7889084289718465\n",
      "block_size=6, entropy_per_block=3.4254261896790625, entropy per bit =0.5709043649465104\n",
      "block_size=7, entropy_per_block=4.661502251021824, entropy per bit =0.6659288930031178\n",
      "block_size=8, entropy_per_block=1.6976664946006572, entropy per bit =0.21220831182508215\n",
      "block_size=9, entropy_per_block=5.128447836803689, entropy per bit =0.5698275374226321\n",
      "block_size=10, entropy_per_block=4.339484639739002, entropy per bit =0.4339484639739002\n",
      "block_size=11, entropy_per_block=5.527371517872168, entropy per bit =0.5024883198065607\n",
      "estimated entropy per bit=0.21220831182508215\n"
     ]
    }
   ],
   "source": [
    "byte_array = time_RNG(nbytes=10000)\n",
    "for block_size in range(1,12):\n",
    "    entropy_per_block = Shannon_entropy(byte_array, block_size)['entropy']\n",
    "    print(f\"block_size={block_size}, entropy_per_block={entropy_per_block}, entropy per bit ={entropy_per_block/block_size}\")\n",
    "\n",
    "minimum = Shannon_entropy(byte_array, 8)['entropy']\n",
    "print(f\"estimated entropy per bit={minimum/8}\")\n"
   ]
  },
  {
   "cell_type": "markdown",
   "id": "475158e3",
   "metadata": {},
   "source": [
    "4. Similarly as in 3. estimate entropy produced by generator `CSPRNG`. Use again different values of `block_size` but now you will see that entropy of `block_size`-bit blocks correspond to size of block.  "
   ]
  },
  {
   "cell_type": "code",
   "execution_count": 11,
   "id": "0e3bbbb5",
   "metadata": {},
   "outputs": [
    {
     "name": "stdout",
     "output_type": "stream",
     "text": [
      "block_size=1, entropy_per_block=0.9999927283539347, entropy per bit =0.9999927283539347\n",
      "block_size=2, entropy_per_block=1.9999557471772786, entropy per bit =0.9999778735886393\n",
      "block_size=3, entropy_per_block=2.999838924169156, entropy per bit =0.9999463080563853\n",
      "block_size=4, entropy_per_block=3.9993969181646625, entropy per bit =0.9998492295411656\n",
      "block_size=5, entropy_per_block=4.99850521963794, entropy per bit =0.999701043927588\n",
      "block_size=6, entropy_per_block=5.9969638774791205, entropy per bit =0.9994939795798534\n",
      "block_size=7, entropy_per_block=6.992743162201591, entropy per bit =0.9989633088859415\n",
      "block_size=8, entropy_per_block=7.9842079756335815, entropy per bit =0.9980259969541977\n",
      "block_size=9, entropy_per_block=8.960193886459269, entropy per bit =0.9955770984954744\n",
      "block_size=10, entropy_per_block=9.908378916099267, entropy per bit =0.9908378916099266\n",
      "block_size=11, entropy_per_block=10.78638137602172, entropy per bit =0.9805801250928837\n"
     ]
    }
   ],
   "source": [
    "byte_array = CSPRNG(nbytes=10000)\n",
    "for block_size in range(1,12):\n",
    "    entropy_per_block = Shannon_entropy(byte_array, block_size)['entropy']\n",
    "    print(f\"block_size={block_size}, entropy_per_block={entropy_per_block}, entropy per bit ={entropy_per_block/block_size}\")\n"
   ]
  },
  {
   "cell_type": "markdown",
   "id": "b2667d04",
   "metadata": {},
   "source": [
    "5. Similarly entropy for `biased_RNG` generator correspond to the size of block `block_size` but the entropy is smaller. You can change probability of zeroes `zero_prob` to see how probility affect the entropy.  "
   ]
  },
  {
   "cell_type": "code",
   "execution_count": 12,
   "id": "5201a4c1",
   "metadata": {},
   "outputs": [
    {
     "name": "stdout",
     "output_type": "stream",
     "text": [
      "block_size=1, entropy_per_block=0.46970842122682266, entropy per bit =0.46970842122682266\n",
      "block_size=2, entropy_per_block=0.9393590709740332, entropy per bit =0.4696795354870166\n",
      "block_size=3, entropy_per_block=1.4090633739853495, entropy per bit =0.46968779132844984\n",
      "block_size=4, entropy_per_block=1.878519748766099, entropy per bit =0.46962993719152474\n",
      "block_size=5, entropy_per_block=2.3471879597548297, entropy per bit =0.46943759195096596\n",
      "block_size=6, entropy_per_block=2.815168052581554, entropy per bit =0.469194675430259\n",
      "block_size=7, entropy_per_block=3.281400335753304, entropy per bit =0.4687714765361863\n",
      "block_size=8, entropy_per_block=3.7439654432017564, entropy per bit =0.46799568040021955\n",
      "block_size=9, entropy_per_block=4.205829765823737, entropy per bit =0.4673144184248597\n",
      "block_size=10, entropy_per_block=4.653642100430795, entropy per bit =0.4653642100430795\n",
      "block_size=11, entropy_per_block=5.101764517967643, entropy per bit =0.46379677436069483\n"
     ]
    }
   ],
   "source": [
    "byte_array = biased_RNG(zero_prob=0.9, nbytes=10000)\n",
    "for block_size in range(1,12):\n",
    "    entropy_per_block = Shannon_entropy(byte_array, block_size)['entropy']\n",
    "    print(f\"block_size={block_size}, entropy_per_block={entropy_per_block}, entropy per bit ={entropy_per_block/block_size}\")\n"
   ]
  },
  {
   "cell_type": "markdown",
   "id": "20d98aa4",
   "metadata": {},
   "source": [
    "# Entropy and attack\n",
    "Now you will be checking that the key generated by `biased_RNG` can be attacked with the complexity corresponding to entropy of the generator. "
   ]
  },
  {
   "cell_type": "markdown",
   "id": "0629c2ad",
   "metadata": {},
   "source": [
    "1. In the attack, you will use the same generator and measure number of iteration until the same key `K` is generated for the second time. Function `generate_and_attack` just counts number of iteration until `K` is generated. Repeat attack 10,100,1000 times and compute average attack complexity, median, ..."
   ]
  },
  {
   "cell_type": "code",
   "execution_count": 65,
   "id": "6787652d",
   "metadata": {},
   "outputs": [
    {
     "name": "stdout",
     "output_type": "stream",
     "text": [
      "100.9272\n",
      "5\n"
     ]
    }
   ],
   "source": [
    "RNG = lambda: biased_RNG(zero_prob=0.9, nbytes=1)\n",
    "# RNG = lambda: CSPRNG(nbytes=1)\n",
    "\n",
    "def generate_and_attack(RNG):\n",
    "    K = RNG() # Key was generated using specific RNG\n",
    "    iteration = 1\n",
    "    for i in range(10000):\n",
    "        r = RNG()\n",
    "        if r == K:\n",
    "            return i # same key abtained after i iterations\n",
    "    return -1\n",
    "complexities = [generate_and_attack(RNG) for _ in range(10000)]\n",
    "print(sum(complexities)/len(complexities))\n",
    "print(median(complexities))"
   ]
  },
  {
   "cell_type": "markdown",
   "id": "a43171e0",
   "metadata": {},
   "source": [
    "# Entropy: values repetitions\n",
    "In the previous task 6 we measured how entropy corresponds to attack complexity. Similarly we can measure how entropy affect probability of collision - probability that in the set $S=\\{s_1, \\cdots, s_k\\}$ of $k$ values (block of bits, or bytes) there is collision $s_i=s_j.$\n",
    " \n",
    "1. Test the birthday paradox for CSPRNG with almost perfect entropy and different sizes of generated values (`nbytes`). How many random blocks of 24 bits (bytes) you need to find one collision (repeated value/block).  \n",
    "2. Use `biased_RNG` with different `zero_prob` and see how entropy affect probability of collision. "
   ]
  },
  {
   "cell_type": "code",
   "execution_count": 69,
   "id": "7c74dee8",
   "metadata": {},
   "outputs": [
    {
     "name": "stdout",
     "output_type": "stream",
     "text": [
      "[22, 28, 28, 55, 82, 93, 111, 138, 155, 170]\n"
     ]
    }
   ],
   "source": [
    "def collision(RNG):\n",
    "    S = []\n",
    "    for i in range(10**6): \n",
    "        r = RNG()\n",
    "        if r in S: \n",
    "            return len(S)\n",
    "        else:\n",
    "            S.append(r)\n",
    "\n",
    "RNG = lambda: CSPRNG(nbytes=2) # Test the birthday paradox for nbytes=2,3,4\n",
    "RNG = lambda: biased_RNG(zero_prob=0.7, nbytes=2) #2. uncomentand test different zero_prob\n",
    "collision_iterations = [collision(RNG) for _ in range(10)]\n",
    "print(sorted(collision_iterations))"
   ]
  },
  {
   "cell_type": "markdown",
   "id": "9b357582",
   "metadata": {},
   "source": [
    "# Entropy pool: processing pool\n",
    " 1. Implement `add_event` and use `SHA1`  to mix small amount of fresh entropy generated by `time_RNG` into the pool. The pool should depend on both all bits of the pool and new entropy."
   ]
  },
  {
   "cell_type": "code",
   "execution_count": 57,
   "id": "44e5ffd3",
   "metadata": {},
   "outputs": [
    {
     "name": "stdout",
     "output_type": "stream",
     "text": [
      "1111010010010001111001010001000101101011\n",
      "1110100001110100001100011000111110011000\n",
      "1111111101101000010000011111011110000110\n",
      "1110110010101101001000000001010011100000\n",
      "1100010001010011101110000010111010111001\n",
      "1001110101110110100101100010111100000100\n",
      "0110000010100101101110100101101011100101\n",
      "0111001000101001000011001010111010100100\n",
      "1011101111110000100111110110100100110110\n",
      "0000110111010111111101101111100011001001\n"
     ]
    }
   ],
   "source": [
    "def SHA1(message: bytes):\n",
    "        digest = hashes.Hash(hashes.MD5())\n",
    "        digest.update(message)\n",
    "        return digest.finalize()[:5] \n",
    "\n",
    "def XOR(bytes1, bytes2):\n",
    "    return bytes(a ^ b for (a, b) in zip(bytes1, bytes2))\n",
    "\n",
    "class EntropyPool(object):\n",
    "    def __init__(self, maxpoolsize=32) -> None:\n",
    "        self.maxsize = 5\n",
    "        self.pool = bytes(self.maxsize)\n",
    "    \n",
    "    def add_event(self) -> None:\n",
    "        self.pool += time_RNG(1)\n",
    "        if len(self.pool) > self.maxsize:\n",
    "            self.pool = SHA1(self.pool)\n",
    "    \n",
    "    def content(self):\n",
    "        print(bytes_to_bitstring(self.pool))\n",
    "\n",
    "\n",
    "pool = EntropyPool()\n",
    "\n",
    "for i in range(10):\n",
    "    pool.add_event()\n",
    "    pool.content()"
   ]
  },
  {
   "cell_type": "markdown",
   "id": "701d1e88",
   "metadata": {},
   "source": [
    "# CSPRNG: period, seeding, backdoor\n",
    " 1. Questions:\n",
    "     * What is the period of the `CTR_PRNG`? \n",
    "     * Can we replace AES by SHA1 and obtain same security?\n",
    "     * Internal state updated the same function (AES or SHA1) \n",
    " 2. Backdoored (designer knows the key of the generator) RNG generated random value of 16B `b'z\\x94a\\x1e\\xe2\\x0e/\\r\\xe2\\x85\\xb6\\x94\\xca\\x1b\\xd1\\x91'` and then it was used to generate key `K` for AES(16B). Find the internal state of  `CTR_PRNG` and find 16B key `K` (b'\\x97\\x14Y\\n~\\...')\n",
    " 3. Seed CRT_PRNG with appropriate amount of entropy from `EntropyPool`. \n",
    "  * Q: How many bytes should be in the pool to produce random key? A: The amount of entropy of the pool should be equal to size of the key. "
   ]
  },
  {
   "cell_type": "code",
   "execution_count": 60,
   "id": "d94471a2",
   "metadata": {},
   "outputs": [],
   "source": [
    "class CTR_PRNG: \n",
    "    def __init__(self, seed):\n",
    "        self.seed(seed)\n",
    "        self.counter = 0\n",
    "        \n",
    "    def seed(self, seed):\n",
    "        cipher = Cipher(algorithms.AES(seed), modes.ECB())\n",
    "        self.AES = cipher.encryptor()\n",
    "        \n",
    "    def rand(self):\n",
    "        msg = self.counter.to_bytes(length=16, byteorder='little') \n",
    "        rnd_block = self.AES.update(msg)\n",
    "        self.counter += 1\n",
    "        return rnd_block\n",
    "    \n",
    "K = bytes(16) # zero key\n",
    "RNG_backdoored = CTR_PRNG(seed=K)"
   ]
  },
  {
   "cell_type": "markdown",
   "id": "d44d981a",
   "metadata": {},
   "source": [
    "# Bonus: recent Minecraft RNG failure  \n",
    "The generator `JavaRNGMinecraft` implements simplified version of RNG used in Minecraft below. It directly outputs random integer `randomInteger`(no need to multiply floats back with `(1 << 24)`). The vulnerability and exploit is described in \n",
    "[Randar Explanation and Information](https://github.com/spawnmason/randar-explanation/blob/master/README.md).\n",
    "```\n",
    "public float nextFloat() {\n",
    "   this.seed = (this.seed * multiplier + addend) % modulus; // update the seed\n",
    "   int randomInteger = (int) (this.seed >> 24); // take the top 24 bits of the seed\n",
    "   return randomInteger / ((float) (1 << 24)); // divide it by 2^24 to get a number between 0 and 1\n",
    "}\n",
    "```\n",
    "\n"
   ]
  },
  {
   "cell_type": "code",
   "execution_count": 61,
   "id": "b4364bd6",
   "metadata": {},
   "outputs": [
    {
     "name": "stdout",
     "output_type": "stream",
     "text": [
      "43740860763831\n",
      "270991354719734\n",
      "89772500768201\n",
      "[2607158, 16152343, 5350858]\n"
     ]
    }
   ],
   "source": [
    "class JavaRNGMinecraft:\n",
    "    def __init__(self, seed = 0):\n",
    "        self.seed(seed)\n",
    "\n",
    "    def seed(self, seed: int):\n",
    "        self.state = seed\n",
    "\n",
    "    def randomInteger(self) -> int:\n",
    "        self.state = (25214903917 * self.state + 11) % 2**48\n",
    "        print(self.state)\n",
    "        return (self.state >> 24)\n",
    "    \n",
    "RNG = JavaRNGMinecraft(int(time.time()))\n",
    "rnds = [RNG.randomInteger() for i in range(3)]\n",
    "print(rnds)"
   ]
  },
  {
   "cell_type": "markdown",
   "id": "d9490cd4",
   "metadata": {},
   "source": [
    "1. Find the internal state of the generator. It can be found using different approaches slow brute force, fast LLL (see Randar), can you propose other method?"
   ]
  },
  {
   "cell_type": "code",
   "execution_count": 19,
   "id": "f1b43505",
   "metadata": {},
   "outputs": [],
   "source": [
    "# find the state"
   ]
  }
 ],
 "metadata": {
  "kernelspec": {
   "display_name": "Python 3 (ipykernel)",
   "language": "python",
   "name": "python3"
  },
  "language_info": {
   "codemirror_mode": {
    "name": "ipython",
    "version": 3
   },
   "file_extension": ".py",
   "mimetype": "text/x-python",
   "name": "python",
   "nbconvert_exporter": "python",
   "pygments_lexer": "ipython3",
   "version": "3.10.12"
  }
 },
 "nbformat": 4,
 "nbformat_minor": 5
}
