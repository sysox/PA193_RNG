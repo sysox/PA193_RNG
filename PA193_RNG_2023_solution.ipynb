{
 "cells": [
  {
   "cell_type": "markdown",
   "id": "ca8d45fc",
   "metadata": {},
   "source": [
    "# PA193 Seminar - RNGs\n",
    "This notebook contains code for several tasks treated in this seminar. "
   ]
  },
  {
   "cell_type": "markdown",
   "id": "d2e4de7d",
   "metadata": {},
   "source": [
    "# Task 1: determinism of PRNG\n",
    "\n",
    "We will work with PRNG implemented in [random](https://docs.python.org/3/library/random.html) package. See first 4 methods (`seed, setstate, getstate, randbytes`) in the documentation. \n",
    " 1. Import **random** package.\n",
    " 2. Generate (and print) 3 random bytes.  \n",
    " 3. Print out bytes in hexadecimal form (use `.hex()` method of bytes). Execute cell 2x - use Run or Ctrl+Enter.  \n",
    " 4. Save state (int `state` variable) of the PRNG right after the seeding (before generation of bytes).  \n",
    " 5. Set the state of PRNG and generate the same result as in step 4. "
   ]
  },
  {
   "cell_type": "code",
   "execution_count": 137,
   "id": "ff090963",
   "metadata": {},
   "outputs": [
    {
     "name": "stdout",
     "output_type": "stream",
     "text": [
      "b'\\xc8\\xaf[\\xd9\\x9f&z\\x0er\\x17'\n",
      "c8af5bd99f267a0e7217\n",
      "73a9bef499bbf4dca4f2\n",
      "73a9bef499bbf4dca4f2\n"
     ]
    }
   ],
   "source": [
    "import random \n",
    "rnd_bytes = random.randbytes(10)\n",
    "print(rnd_bytes)\n",
    "print(rnd_bytes.hex())\n",
    "\n",
    "random.seed(2)\n",
    "state = random.getstate()\n",
    "print(random.randbytes(10).hex())\n",
    "\n",
    "# print(state)\n",
    "random.setstate(state)\n",
    "print(random.randbytes(10).hex())"
   ]
  },
  {
   "cell_type": "markdown",
   "id": "09da2a2d",
   "metadata": {},
   "source": [
    "# LCG\n",
    "Standard PRNG functions are very fast but also very insecure. \n",
    " * In python, PRNG [implemented](https://svn.python.org/projects/python/branches/release32-maint/Lib/random.py) in random module is [Mersenne Twister](https://en.wikipedia.org/wiki/Mersenne_Twister) with state formed by 625 32-bit integers. \n",
    " * In other languages (C, Java, Rust) LCG is typically used. Internal state of LCG is **single** value (state) updated iterativelly as $$state = (state*a+c) \\pmod m.$$ Overview of constants `a,c,m` used by the LCG for several languages can be found [LCG params and generators](https://en.wikipedia.org/wiki/Linear_congruential_generator).  \n",
    " <span style=\"color:red\">In LCG, state (new or old) is typically returned as generated random value!!</span>"
   ]
  },
  {
   "cell_type": "markdown",
   "id": "843c453f",
   "metadata": {},
   "source": [
    "# Task 2: Forward/backward predictability  \n",
    " 0. Check that the parameters of LCG generators (glibc, ZX81) corresponds to values published here [LCG params and generators](https://en.wikipedia.org/wiki/Linear_congruential_generator) \n",
    " 1. Attacker knowns that the **glibc** generated number 1406932606. Why he is able to find the internal state of the **RNG**? What is the problem? \n",
    " 2. Use appropriate seed and generate next 9 values until. \n",
    " 3. Are you able to create \"inverse\" LCG that goes in opposite directions? Start from the last value generated in 2. end with the first.  \n",
    "  - **HINT**: $x_{i+1} = a*x_{i}+c \\pmod m \\implies x_{i} = a^{-1}*x_{i+1}-(a^{-1}*c) \\pmod m$\n",
    " "
   ]
  },
  {
   "cell_type": "code",
   "execution_count": 5,
   "id": "f4152961",
   "metadata": {},
   "outputs": [
    {
     "name": "stdout",
     "output_type": "stream",
     "text": [
      "[12345, 1406932606, 654583775, 1449466924, 229283573, 1109335178, 1051550459, 1293799192, 794471793, 551188310]\n",
      "[794471793, 1293799192, 1051550459, 1109335178, 229283573, 1449466924, 654583775, 1406932606, 12345, 0]\n"
     ]
    }
   ],
   "source": [
    "class PRNG:\n",
    "    def __init__(self, a, c, m):\n",
    "        self.a, self.c, self.m = a, c, m\n",
    "        self.srand(0)\n",
    "\n",
    "    def srand(self, seed):\n",
    "        self.state = seed\n",
    "\n",
    "    def rand(self):\n",
    "        self.state = (self.state * self.a + self.c) % self.m\n",
    "        return self.state\n",
    "    \n",
    "ZX81 = PRNG(a=75, c=74, m=2**16 + 1)\n",
    "rngs = [ZX81.rand() for _ in range(10) ]\n",
    "\n",
    "glibc = PRNG(a=1103515245, c=12345, m=2**31)\n",
    "\n",
    "rngs = [glibc.rand() for _ in range(10) ]\n",
    "print(rngs)\n",
    "\n",
    "a_inverse = pow(1103515245,-1,2**31)\n",
    "glibc_backward = PRNG(a=a_inverse, c=-12345*a_inverse, m=2**31)\n",
    "glibc_backward.srand(551188310)\n",
    "\n",
    "rngs = [glibc_backward.rand() for _ in range(10) ]\n",
    "print(rngs)"
   ]
  },
  {
   "cell_type": "markdown",
   "id": "c739f910",
   "metadata": {},
   "source": [
    "# Task 3: RNG sequence  \n",
    " 1. Use ZX81 seeded with 0 and generate 130000 values - assign `sequence` to this list of values.  \n",
    " 2. Check that generated sequence is periodic with period 65536 (i.e. there are 65536 different values, and `sequence[0]==sequence[65535]`). \n",
    " 3. Verify that the only value missing in the sequence is 65536. \n",
    " 4. Since sequence consists of almost all values there is one large cycle. I.e. different seed just defines different start within the cycle = shifted sequence.  \n",
    " 5. Verify that other sequence is 65536, 65536, ... .  "
   ]
  },
  {
   "cell_type": "code",
   "execution_count": 8,
   "id": "ff7ee523",
   "metadata": {},
   "outputs": [
    {
     "name": "stdout",
     "output_type": "stream",
     "text": [
      "False\n",
      "65536\n",
      "[65536, 65536, 65536, 65536, 65536, 65536, 65536, 65536, 65536, 65536]\n"
     ]
    }
   ],
   "source": [
    "ZX81.srand(0)\n",
    "sequence = [ZX81.rand() for i in range(65536)]\n",
    "print(65536 in sequence)\n",
    "print(len(set(sequence)))\n",
    "\n",
    "ZX81.srand(65536)\n",
    "sequence = [ZX81.rand() for i in range(10)]\n",
    "print(sequence)"
   ]
  },
  {
   "cell_type": "markdown",
   "id": "0ddbb536",
   "metadata": {},
   "source": [
    "# Task 4: CSPRNG(but!!!)\n",
    "Hash functions `SHA1` can be used as one-way functions (hard to invert) to create CSPRNG. One-wayness of SHA1 doesn't allow to compute previous state of RNG from the generated values. \n",
    " 1. Fix the generation process (rand function does not update the internal state). \n",
    " 2. Verify that SHA1 used same way (as state update func. and output func.) leaks internal state of RNG. \n",
    " 3. Fix given security issue e.g. functions used should be different - it suffices to use SHA1(x), SHA(x^2). On the other hand   SHA(x), SHA1(x)^2 is still problematic! \n",
    " - ^ represents bit flip. "
   ]
  },
  {
   "cell_type": "code",
   "execution_count": 29,
   "id": "d4dedc24",
   "metadata": {},
   "outputs": [
    {
     "name": "stdout",
     "output_type": "stream",
     "text": [
      "[b'\\x8b', b'<', b'\\t', b'\\x06', b'\\xa4', b'M', b'\\x08', b'\\xad', b'\\xe2', b'\\xc2']\n"
     ]
    }
   ],
   "source": [
    "from cryptography.hazmat.primitives import hashes\n",
    "from cryptography.hazmat.primitives.ciphers import Cipher, algorithms, modes\n",
    "\n",
    "def SHA1(message: bytes):\n",
    "    digest = hashes.Hash(hashes.SHA1())\n",
    "    digest.update(message)\n",
    "    return digest.finalize() \n",
    "\n",
    "\n",
    "class CSPRNG_hash:\n",
    "    def __init__(self, state_size = 1):\n",
    "        self.size = state_size\n",
    "        seed = bytes.fromhex(\"00\"*state_size)\n",
    "        self.srand(seed)\n",
    "\n",
    "    def srand(self, seed: bytes):\n",
    "        self.state = seed\n",
    "        \n",
    "    def RNG_state_update(self):\n",
    "        self.state = SHA1(self.state)[:self.size]    \n",
    "    \n",
    "    def rand(self):\n",
    "        self.RNG_state_update()\n",
    "        self.state = bytearray(self.state)\n",
    "        self.state[-1] ^= 2\n",
    "        return SHA1(self.state)[:self.size]\n",
    "    \n",
    "csprng_hash = CSPRNG_hash()\n",
    "\n",
    "seed = bytes.fromhex(\"12\")\n",
    "csprng_hash.srand(seed)\n",
    "sequence = [csprng_hash.rand() for i in range(10)]\n",
    "print(sequence)"
   ]
  },
  {
   "cell_type": "markdown",
   "id": "d34d8b71",
   "metadata": {},
   "source": [
    "# Task 5: CSPRNG(but - small cycles)\n",
    " 1. Use `csprng` generator and generate sequence of 30 values. Using `find_cycle` function find periodic and pre-periodic (p-periodic) part of the sequence. \n",
    " 2. Verify (try few different seeds) that periods are affected by birthday paradox i.e. period is roughly sqrt(N) instead of N."
   ]
  },
  {
   "cell_type": "code",
   "execution_count": 30,
   "id": "a452da73",
   "metadata": {},
   "outputs": [
    {
     "name": "stdout",
     "output_type": "stream",
     "text": [
      "[b'R', b'Q', b'\\x02', b'[', b'#', b'\\n', b'\\x8d', b'd', b'J', b'|', b'\\xfb', b'\\xa1', b'\\x12', b'n', b'\\x07', b'\\x8d', b'd', b'J', b'|', b'\\xfb', b'\\xa1', b'\\x12', b'n', b'\\x07', b'\\x8d', b'd', b'J', b'|', b'\\xfb', b'\\xa1']\n",
      "[b'\\x8d', b'd', b'J', b'|', b'\\xfb', b'\\xa1', b'\\x12', b'n', b'\\x07']\n"
     ]
    }
   ],
   "source": [
    "def find_cycle(sequence):\n",
    "    for value in sequence:\n",
    "        if sequence.count(value) >= 2:\n",
    "            idx_first = sequence.index(value)\n",
    "            idx_second = sequence[idx_first+1:].index(value)\n",
    "            return sequence[idx_first: idx_first + 1 + idx_second]\n",
    "    return None\n",
    "seed = bytes.fromhex(\"11\")\n",
    "csprng_hash.srand(seed)\n",
    "sequence  = [csprng_hash.rand() for _ in range(30) ]\n",
    "print(sequence)\n",
    "cycle = find_cycle(sequence)\n",
    "print(cycle)"
   ]
  },
  {
   "cell_type": "markdown",
   "id": "4bc32101",
   "metadata": {},
   "source": [
    "# Task 6: CSPRNG with CRT mode\n",
    "\n",
    " 1. The following CSPRNG `csprng` is secure with maximal period. But it uses always the same key! The only way how to recover from the state compromise is reseeding the generator with new counter value. Change the implementation so the AES key could be also reseeded."
   ]
  },
  {
   "cell_type": "code",
   "execution_count": 148,
   "id": "43ea7827",
   "metadata": {},
   "outputs": [
    {
     "name": "stdout",
     "output_type": "stream",
     "text": [
      "b'f\\xe9K\\xd4\\xef\\x8a,;\\x88L\\xfaY\\xca4+.'\n",
      "b'X\\xe2\\xfc\\xce\\xfa~0a6\\x7f\\x1dW\\xa4\\xe7EZ'\n"
     ]
    }
   ],
   "source": [
    "class CSPRNG_CRT:\n",
    "    def __init__(self):\n",
    "        seed = bytes.fromhex(\"00\"*16)\n",
    "        self.srand(seed)\n",
    "        \n",
    "    def srand(self, seed: bytes): \n",
    "        key = bytes.fromhex(\"00\"*16)\n",
    "        cipher = Cipher(algorithms.AES(key), modes.CTR(seed))\n",
    "        self.encryptor = cipher.encryptor() \n",
    "\n",
    "    \n",
    "    def rand(self):\n",
    "        msg =  bytes.fromhex(\"00\"*16)\n",
    "        ct = self.encryptor.update(msg) #+  self.encryptor.finalize()\n",
    "        return ct\n",
    "    \n",
    "csprng = CSPRNG_CRT()\n",
    "print(csprng.rand())\n",
    "print(csprng.rand())"
   ]
  },
  {
   "cell_type": "markdown",
   "id": "52ff3712",
   "metadata": {},
   "source": [
    "# TRNG"
   ]
  },
  {
   "cell_type": "markdown",
   "id": "b94c4bd8",
   "metadata": {},
   "source": [
    " ## Entropy\n",
    " - The function **time_ns** produces certain amount of entropy per call.  \n",
    " - Implement function `entropy` that will produce required bits (`req_bits`) of entropy per call.\n",
    " - What is the appropriate way how to combine more values together? \n",
    "  - Can we use XOR (bitwise operator: ^) to combine random values? \n",
    "  - Or we should use hash function? \n",
    "  - What are pros and cons of XOR and hash?"
   ]
  },
  {
   "cell_type": "code",
   "execution_count": 86,
   "id": "3de3b8e7",
   "metadata": {},
   "outputs": [],
   "source": [
    "def time_ns(state_size=8):\n",
    "    return time.time_ns().to_bytes(state_size, byteorder='big') \n",
    "\n",
    "def XOR(bytes1, bytes2):\n",
    "    return bytes(a ^ b for (a, b) in zip(bytes1, bytes2))\n",
    "\n",
    "def entropy(req_bits):\n",
    "    pass"
   ]
  },
  {
   "cell_type": "markdown",
   "id": "8655339e",
   "metadata": {},
   "source": [
    "## ANSIX931\n",
    "  1. Implement ANSIX931\n",
    "  2. Use appropriate source of entropy (os.urandom(), secrets.token_bytes()) to reseed the generator."
   ]
  },
  {
   "cell_type": "code",
   "execution_count": null,
   "id": "d94074bf",
   "metadata": {},
   "outputs": [],
   "source": []
  },
  {
   "cell_type": "code",
   "execution_count": 87,
   "id": "06f53792",
   "metadata": {},
   "outputs": [
    {
     "data": {
      "text/plain": [
       "'1dec123a576af52c1f9da11a32fd0f5d'"
      ]
     },
     "execution_count": 87,
     "metadata": {},
     "output_type": "execute_result"
    }
   ],
   "source": [
    "def AES_ECB(msg, key):\n",
    "    cipher = Cipher(algorithms.AES(key), modes.ECB())\n",
    "    encryptor = cipher.encryptor() \n",
    "    ct = encryptor.update(msg) +  encryptor.finalize()\n",
    "    return ct\n",
    "\n",
    "import time\n",
    "class ANSIX931: \n",
    "    def __init__(self, state_size=16, cipher=AES_ECB, key=b\"\\x00\"*16) :\n",
    "        self.state_size = state_size\n",
    "        self.state = b\"\\x00\"*state_size\n",
    "        self.key = key\n",
    "        \n",
    "    def seed(self, seed):\n",
    "        self.state = seed\n",
    "        \n",
    "    def random(self): \n",
    "        T = time.time_ns().to_bytes(self.state_size, byteorder='big') \n",
    "        tmp1 = AES_ECB(T, self.key) \n",
    "        tmp2 = XOR(tmp1, self.state)\n",
    "        R = AES_ECB(tmp2, self.key) \n",
    "        self.state = XOR(tmp1, R)\n",
    "        return R\n",
    "\n",
    "RNG = ANSIX931()\n",
    "RNG.random().hex()"
   ]
  }
 ],
 "metadata": {
  "kernelspec": {
   "display_name": "Python 3 (ipykernel)",
   "language": "python",
   "name": "python3"
  },
  "language_info": {
   "codemirror_mode": {
    "name": "ipython",
    "version": 3
   },
   "file_extension": ".py",
   "mimetype": "text/x-python",
   "name": "python",
   "nbconvert_exporter": "python",
   "pygments_lexer": "ipython3",
   "version": "3.10.6"
  }
 },
 "nbformat": 4,
 "nbformat_minor": 5
}
