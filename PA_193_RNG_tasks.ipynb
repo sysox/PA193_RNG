{
 "cells": [
  {
   "cell_type": "markdown",
   "id": "56896995",
   "metadata": {},
   "source": [
    "# PRNG"
   ]
  },
  {
   "cell_type": "markdown",
   "id": "7f9378eb",
   "metadata": {},
   "source": [
    "## State and seed\n",
    "\n",
    " [python random module](https://docs.python.org/3/library/random.html).\n",
    " 1. Execute few times to see the PRNG generates diffeent outputs.\n",
    " 2. Initialize the generator using the seed=0 and execute the cell several times.\n",
    " 3. Print out the internal state - use **getstate** method of random package. "
   ]
  },
  {
   "cell_type": "code",
   "execution_count": 69,
   "id": "17f3831a",
   "metadata": {},
   "outputs": [
    {
     "data": {
      "text/plain": [
       "6"
      ]
     },
     "execution_count": 69,
     "metadata": {},
     "output_type": "execute_result"
    }
   ],
   "source": [
    "import random\n",
    "\n",
    "random.randint(0, 10)"
   ]
  },
  {
   "cell_type": "markdown",
   "id": "ae25f22d",
   "metadata": {},
   "source": [
    "# PRNG generator\n",
    "## LCG \n",
    " 1. Execute the cell with the simple generator **LCG** defined by the linear update function **lcg_update**. What is the problem with the generator?\n",
    " 2. What is the maximum of values **LCG** can generate?  \n",
    " 3. Find the best parameters a,c (maximal cycle).\n",
    "  - What does it mean the best params? "
   ]
  },
  {
   "cell_type": "code",
   "execution_count": 70,
   "id": "dbf3883d",
   "metadata": {},
   "outputs": [
    {
     "name": "stdout",
     "output_type": "stream",
     "text": [
      "[1, 3, 7, 15, 31, 63, 127, 255, 255, 255]\n"
     ]
    }
   ],
   "source": [
    "id = lambda x: x\n",
    "\n",
    "class PRNG: \n",
    "    def __init__(self, state_size, init_f=id, update_f=id, output_f = id):\n",
    "        self.state = b\"\\x00\"*state_size\n",
    "        self.init_f = init_f\n",
    "        self.update_f = update_f\n",
    "        self.output_f = output_f\n",
    "        \n",
    "    def seed(self, seed):\n",
    "        self.state = self.init_f(seed)\n",
    "        \n",
    "    def random(self):       \n",
    "        self.state = self.update_f(self.state)\n",
    "        return self.output_f(self.state)\n",
    "        \n",
    "def lcg_update(x, a=0, c=0, m=2^31):\n",
    "    return (a*x+c) % m\n",
    "\n",
    "\n",
    "LCG = PRNG(4, init_f=id, update_f = lambda x: lcg_update(x, a=2, c=1, m=256), output_f=id)\n",
    "LCG.seed(0)\n",
    "sequence = [LCG.random() for i in range(10)]\n",
    "print(sequence)"
   ]
  },
  {
   "cell_type": "markdown",
   "id": "bb1382ca",
   "metadata": {},
   "source": [
    "## Forward/backward predictability  \n",
    " 1. Attacker knowns that the **LCG** generated number 5. Is he able to find the internal state of the **LCG**? What is the problem?    \n",
    " 2. Use LCG and generate next values - use appropriate seed. \n",
    " 3. Are you able to create \"inverse\" LCG f(x) = a*x+c mod m implies (f(x)-c)*a^-1 mod m "
   ]
  },
  {
   "cell_type": "code",
   "execution_count": 62,
   "id": "090fcb53",
   "metadata": {},
   "outputs": [],
   "source": [
    "LCG_inverse = PRNG(4, init_f=id, update_f = lambda x: lcg_update(x, a=2, c=1, m=256), output_f=id)"
   ]
  },
  {
   "cell_type": "markdown",
   "id": "ddf9c99c",
   "metadata": {},
   "source": [
    "## RNG improvements - hash function\n",
    " 1. Use MD5 and improve the generator **H** in a way that the internal state does not leak.  \n",
    " 2. Is there any problem - how to change the **output_f** so it won't leak the internal state. \n",
    " 3. What is expected period of the generator? (Think about the birthday paradox.)\n",
    " 4. What is the difference when we use AES in CTR mode as RNG? \n",
    "  - What is the period of the AES-CTR?\n",
    "  - What is the state of the AES-CTR?\n",
    "  - What is the seed of the AES-CTR?"
   ]
  },
  {
   "cell_type": "code",
   "execution_count": 63,
   "id": "178345ab",
   "metadata": {},
   "outputs": [],
   "source": [
    "from cryptography.hazmat.primitives.ciphers import Cipher, algorithms, modes\n",
    "import hashlib \n",
    "\n",
    "def MD5(msg):\n",
    "    h = hashlib.md5()\n",
    "    h.update(msg)\n",
    "    return h.digest()\n",
    "\n",
    "H = PRNG(16, init_f=id, update_f = id, output_f=id)\n",
    "H.random()\n",
    "H.random()\n",
    "\n",
    "def AES_CTR(msg, key, iv):\n",
    "    cipher = Cipher(algorithms.AES(key), modes.CTR(iv))\n",
    "    encryptor = cipher.encryptor() \n",
    "    ct = encryptor.update(msg) +  encryptor.finalize()\n",
    "    return ct"
   ]
  },
  {
   "cell_type": "markdown",
   "id": "094cb394",
   "metadata": {},
   "source": [
    "# TRNG\n"
   ]
  },
  {
   "cell_type": "markdown",
   "id": "9caf0c0e",
   "metadata": {},
   "source": [
    " ## Entropy\n",
    " - The function **time_ns** produces certain amount of entropy per call.  \n",
    " - Implement function `entropy` that will produce required bits (`req_bits`) of entropy per call.\n",
    " - What is the appropriate way how to combine more values together? \n",
    "  - Can we use XOR (bitwise operator: ^) to combine random values? \n",
    "  - Or should we use hash function? \n",
    "  - What are pros and cons of XOR and hash?"
   ]
  },
  {
   "cell_type": "code",
   "execution_count": 57,
   "id": "4a4ddd58",
   "metadata": {},
   "outputs": [],
   "source": [
    "def time_ns(state_size=8):\n",
    "    return time.time_ns().to_bytes(state_size, byteorder='big') \n",
    "\n",
    "def XOR(bytes1, bytes2):\n",
    "    return bytes(a ^ b for (a, b) in zip(bytes1, bytes2))\n",
    "\n",
    "def entropy(req_bits):\n",
    "    pass\n",
    "    "
   ]
  },
  {
   "cell_type": "markdown",
   "id": "55f74157",
   "metadata": {},
   "source": [
    "## ANSIX931\n",
    "  1. Implement ANSIX9.31 generator based on AES. \n",
    "  2. Use appropriate source of entropy (os.urandom(), secrets.token_bytes()) to reseed the generator. "
   ]
  },
  {
   "cell_type": "code",
   "execution_count": 71,
   "id": "1a27c234",
   "metadata": {},
   "outputs": [
    {
     "ename": "NameError",
     "evalue": "name 'R' is not defined",
     "output_type": "error",
     "traceback": [
      "\u001b[1;31m---------------------------------------------------------------------------\u001b[0m",
      "\u001b[1;31mNameError\u001b[0m                                 Traceback (most recent call last)",
      "\u001b[1;32mC:\\Users\\Public\\Documents\\Wondershare\\CreatorTemp\\ipykernel_3000\\2465491055.py\u001b[0m in \u001b[0;36m<module>\u001b[1;34m\u001b[0m\n\u001b[0;32m     21\u001b[0m \u001b[1;33m\u001b[0m\u001b[0m\n\u001b[0;32m     22\u001b[0m \u001b[0mRNG\u001b[0m \u001b[1;33m=\u001b[0m \u001b[0mANSIX931\u001b[0m\u001b[1;33m(\u001b[0m\u001b[1;33m)\u001b[0m\u001b[1;33m\u001b[0m\u001b[1;33m\u001b[0m\u001b[0m\n\u001b[1;32m---> 23\u001b[1;33m \u001b[0mRNG\u001b[0m\u001b[1;33m.\u001b[0m\u001b[0mrandom\u001b[0m\u001b[1;33m(\u001b[0m\u001b[1;33m)\u001b[0m\u001b[1;33m\u001b[0m\u001b[1;33m\u001b[0m\u001b[0m\n\u001b[0m",
      "\u001b[1;32mC:\\Users\\Public\\Documents\\Wondershare\\CreatorTemp\\ipykernel_3000\\2465491055.py\u001b[0m in \u001b[0;36mrandom\u001b[1;34m(self)\u001b[0m\n\u001b[0;32m     18\u001b[0m         \u001b[0mT\u001b[0m \u001b[1;33m=\u001b[0m \u001b[0mtime\u001b[0m\u001b[1;33m.\u001b[0m\u001b[0mtime_ns\u001b[0m\u001b[1;33m(\u001b[0m\u001b[1;33m)\u001b[0m\u001b[1;33m.\u001b[0m\u001b[0mto_bytes\u001b[0m\u001b[1;33m(\u001b[0m\u001b[0mself\u001b[0m\u001b[1;33m.\u001b[0m\u001b[0mstate_size\u001b[0m\u001b[1;33m,\u001b[0m \u001b[0mbyteorder\u001b[0m\u001b[1;33m=\u001b[0m\u001b[1;34m'big'\u001b[0m\u001b[1;33m)\u001b[0m\u001b[1;33m\u001b[0m\u001b[1;33m\u001b[0m\u001b[0m\n\u001b[0;32m     19\u001b[0m \u001b[1;33m\u001b[0m\u001b[0m\n\u001b[1;32m---> 20\u001b[1;33m         \u001b[1;32mreturn\u001b[0m \u001b[0mR\u001b[0m\u001b[1;33m\u001b[0m\u001b[1;33m\u001b[0m\u001b[0m\n\u001b[0m\u001b[0;32m     21\u001b[0m \u001b[1;33m\u001b[0m\u001b[0m\n\u001b[0;32m     22\u001b[0m \u001b[0mRNG\u001b[0m \u001b[1;33m=\u001b[0m \u001b[0mANSIX931\u001b[0m\u001b[1;33m(\u001b[0m\u001b[1;33m)\u001b[0m\u001b[1;33m\u001b[0m\u001b[1;33m\u001b[0m\u001b[0m\n",
      "\u001b[1;31mNameError\u001b[0m: name 'R' is not defined"
     ]
    }
   ],
   "source": [
    "def AES_ECB(msg, key):\n",
    "    cipher = Cipher(algorithms.AES(key), modes.ECB())\n",
    "    encryptor = cipher.encryptor() \n",
    "    ct = encryptor.update(msg) +  encryptor.finalize()\n",
    "    return ct\n",
    "\n",
    "import time\n",
    "class ANSIX931: \n",
    "    def __init__(self, state_size=16, cipher=AES_ECB, key=b\"\\x00\"*16) :\n",
    "        self.state_size = state_size\n",
    "        self.state = b\"\\x00\"*state_size\n",
    "        self.key = key\n",
    "        \n",
    "    def seed(self, seed):\n",
    "        self.state = seed\n",
    "        \n",
    "    def random(self): \n",
    "        T = time.time_ns().to_bytes(self.state_size, byteorder='big') \n",
    "        # write update of state and compute the output \n",
    "        return T\n",
    "\n",
    "RNG = ANSIX931()\n",
    "RNG.random()"
   ]
  },
  {
   "cell_type": "code",
   "execution_count": null,
   "id": "e517e50a",
   "metadata": {},
   "outputs": [],
   "source": []
  }
 ],
 "metadata": {
  "kernelspec": {
   "display_name": "Python 3 (ipykernel)",
   "language": "python",
   "name": "python3"
  },
  "language_info": {
   "codemirror_mode": {
    "name": "ipython",
    "version": 3
   },
   "file_extension": ".py",
   "mimetype": "text/x-python",
   "name": "python",
   "nbconvert_exporter": "python",
   "pygments_lexer": "ipython3",
   "version": "3.7.9"
  }
 },
 "nbformat": 4,
 "nbformat_minor": 5
}
